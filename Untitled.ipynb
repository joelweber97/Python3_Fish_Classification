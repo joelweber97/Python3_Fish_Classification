{
 "cells": [
  {
   "cell_type": "code",
   "execution_count": 2,
   "id": "63295201",
   "metadata": {},
   "outputs": [],
   "source": [
    "import cv2\n",
    "import numpy as np\n",
    "import glob"
   ]
  },
  {
   "cell_type": "code",
   "execution_count": 3,
   "id": "9f1c6942",
   "metadata": {},
   "outputs": [],
   "source": [
    "import tensorflow as tf\n",
    "from tensorflow.keras.layers import Dense, Conv2D, MaxPool2D, Flatten, Dropout\n",
    "from tensorflow.keras.models import Sequential\n",
    "from tensorflow.keras import datasets, layers, models\n",
    "from tensorflow.keras import utils"
   ]
  },
  {
   "cell_type": "code",
   "execution_count": 4,
   "id": "86eb2dac",
   "metadata": {},
   "outputs": [],
   "source": [
    "from sklearn.model_selection import train_test_split\n",
    "from sklearn.metrics import confusion_matrix, classification_report"
   ]
  },
  {
   "cell_type": "code",
   "execution_count": 4,
   "id": "86a747be",
   "metadata": {},
   "outputs": [
    {
     "name": "stdout",
     "output_type": "stream",
     "text": [
      "# packages in environment at C:\\Users\\joelw\\anaconda3\\envs\\tfgpu:\n",
      "#\n",
      "# Name                    Version                   Build  Channel\n",
      "_tflow_select             2.1.0                       gpu  \n",
      "abseil-cpp                20210324.2           hd77b12b_0  \n",
      "absl-py                   0.15.0             pyhd3eb1b0_0  \n",
      "aiohttp                   3.8.1            py39h2bbff1b_0  \n",
      "aiosignal                 1.2.0              pyhd3eb1b0_0  \n",
      "argon2-cffi               21.3.0                   pypi_0    pypi\n",
      "argon2-cffi-bindings      21.2.0                   pypi_0    pypi\n",
      "astor                     0.8.1            py39haa95532_0  \n",
      "astunparse                1.6.3                      py_0  \n",
      "async-timeout             4.0.1              pyhd3eb1b0_0  \n",
      "attrs                     21.2.0             pyhd3eb1b0_0  \n",
      "backcall                  0.2.0                    pypi_0    pypi\n",
      "blas                      1.0                         mkl  \n",
      "bleach                    4.1.0                    pypi_0    pypi\n",
      "blinker                   1.4              py39haa95532_0  \n",
      "brotli                    1.0.9                h8ffe710_6    conda-forge\n",
      "brotli-bin                1.0.9                h8ffe710_6    conda-forge\n",
      "brotlipy                  0.7.0           py39h2bbff1b_1003  \n",
      "ca-certificates           2021.10.8            h5b45459_0    conda-forge\n",
      "cachetools                4.2.2              pyhd3eb1b0_0  \n",
      "certifi                   2021.10.8        py39hcbf5309_1    conda-forge\n",
      "cffi                      1.15.0           py39h2bbff1b_0  \n",
      "charset-normalizer        2.0.4              pyhd3eb1b0_0  \n",
      "click                     8.0.3              pyhd3eb1b0_0  \n",
      "colorama                  0.4.4                    pypi_0    pypi\n",
      "cryptography              3.4.8            py39h71e12ea_0  \n",
      "cudatoolkit               11.3.1               h59b6b97_2  \n",
      "cudnn                     8.2.1                cuda11.3_0  \n",
      "cycler                    0.11.0             pyhd8ed1ab_0    conda-forge\n",
      "dataclasses               0.8                pyh6d0b6a4_7  \n",
      "debugpy                   1.5.1                    pypi_0    pypi\n",
      "decorator                 5.1.1                    pypi_0    pypi\n",
      "defusedxml                0.7.1                    pypi_0    pypi\n",
      "entrypoints               0.3                      pypi_0    pypi\n",
      "flatbuffers               2.0.0                h6c2663c_0  \n",
      "fonttools                 4.28.5           py39hb82d6ee_0    conda-forge\n",
      "freetype                  2.10.4               h546665d_1    conda-forge\n",
      "frozenlist                1.2.0            py39h2bbff1b_0  \n",
      "gast                      0.4.0              pyhd3eb1b0_0  \n",
      "giflib                    5.2.1                h62dcd97_0  \n",
      "google-auth               1.33.0             pyhd3eb1b0_0  \n",
      "google-auth-oauthlib      0.4.1                      py_2  \n",
      "google-pasta              0.2.0              pyhd3eb1b0_0  \n",
      "grpcio                    1.42.0           py39hc60d5dd_0  \n",
      "h5py                      3.6.0            py39h3de5c98_0  \n",
      "hdf5                      1.10.6               h7ebc959_0  \n",
      "icc_rt                    2019.0.0             h0cc432a_1  \n",
      "icu                       68.1                 h6c2663c_0  \n",
      "idna                      3.3                pyhd3eb1b0_0  \n",
      "importlib-metadata        4.8.2            py39haa95532_0  \n",
      "intel-openmp              2021.4.0          haa95532_3556  \n",
      "ipykernel                 6.6.1                    pypi_0    pypi\n",
      "ipython                   7.31.0                   pypi_0    pypi\n",
      "ipython-genutils          0.2.0                    pypi_0    pypi\n",
      "ipywidgets                7.6.5                    pypi_0    pypi\n",
      "jedi                      0.18.1                   pypi_0    pypi\n",
      "jinja2                    3.0.3                    pypi_0    pypi\n",
      "joblib                    1.1.0                    pypi_0    pypi\n",
      "jpeg                      9d                   h2bbff1b_0  \n",
      "jsonschema                4.3.3                    pypi_0    pypi\n",
      "jupyter                   1.0.0                    pypi_0    pypi\n",
      "jupyter-client            7.1.0                    pypi_0    pypi\n",
      "jupyter-console           6.4.0                    pypi_0    pypi\n",
      "jupyter-core              4.9.1                    pypi_0    pypi\n",
      "jupyterlab-pygments       0.1.2                    pypi_0    pypi\n",
      "jupyterlab-widgets        1.0.2                    pypi_0    pypi\n",
      "keras-preprocessing       1.1.2              pyhd3eb1b0_0  \n",
      "kiwisolver                1.3.2            py39h2e07f2f_1    conda-forge\n",
      "libbrotlicommon           1.0.9                h8ffe710_6    conda-forge\n",
      "libbrotlidec              1.0.9                h8ffe710_6    conda-forge\n",
      "libbrotlienc              1.0.9                h8ffe710_6    conda-forge\n",
      "libclang                  11.1.0          default_h5c34c98_1    conda-forge\n",
      "libcurl                   7.80.0               h86230a5_0  \n",
      "libpng                    1.6.37               h2a8f88b_0  \n",
      "libprotobuf               3.17.2               h23ce68f_1  \n",
      "libssh2                   1.9.0                h7a1dbc1_1  \n",
      "libtiff                   4.0.10            h21b02b4_1005    conda-forge\n",
      "libwebp                   1.2.1                h57928b3_0    conda-forge\n",
      "libwebp-base              1.2.1                h8ffe710_0    conda-forge\n",
      "lz4-c                     1.9.3                h8ffe710_1    conda-forge\n",
      "markdown                  3.3.4            py39haa95532_0  \n",
      "markupsafe                2.0.1                    pypi_0    pypi\n",
      "matplotlib                3.5.1            py39hcbf5309_0    conda-forge\n",
      "matplotlib-base           3.5.1            py39h581301d_0    conda-forge\n",
      "matplotlib-inline         0.1.3                    pypi_0    pypi\n",
      "mistune                   0.8.4                    pypi_0    pypi\n",
      "mkl                       2021.4.0           haa95532_640  \n",
      "mkl-service               2.4.0            py39h2bbff1b_0  \n",
      "mkl_fft                   1.3.1            py39h277e83a_0  \n",
      "mkl_random                1.2.2            py39hf11a4ad_0  \n",
      "multidict                 5.1.0            py39h2bbff1b_2  \n",
      "munkres                   1.1.4              pyh9f0ad1d_0    conda-forge\n",
      "nbclient                  0.5.9                    pypi_0    pypi\n",
      "nbconvert                 6.4.0                    pypi_0    pypi\n",
      "nbformat                  5.1.3                    pypi_0    pypi\n",
      "nest-asyncio              1.5.4                    pypi_0    pypi\n",
      "notebook                  6.4.6                    pypi_0    pypi\n",
      "numpy                     1.21.2           py39hfca59bb_0  \n",
      "numpy-base                1.21.2           py39h0829f74_0  \n",
      "oauthlib                  3.1.1              pyhd3eb1b0_0  \n",
      "olefile                   0.46               pyh9f0ad1d_1    conda-forge\n",
      "opencv-python             4.5.5.62                 pypi_0    pypi\n",
      "openssl                   1.1.1l               h8ffe710_0    conda-forge\n",
      "opt_einsum                3.3.0              pyhd3eb1b0_1  \n",
      "packaging                 21.3               pyhd8ed1ab_0    conda-forge\n",
      "pandas                    1.4.0                    pypi_0    pypi\n",
      "pandocfilters             1.5.0                    pypi_0    pypi\n",
      "parso                     0.8.3                    pypi_0    pypi\n",
      "pickleshare               0.7.5                    pypi_0    pypi\n",
      "pillow                    9.0.0                    pypi_0    pypi\n",
      "pip                       21.2.4           py39haa95532_0  \n",
      "prometheus-client         0.12.0                   pypi_0    pypi\n",
      "prompt-toolkit            3.0.24                   pypi_0    pypi\n",
      "protobuf                  3.17.2           py39hd77b12b_0  \n",
      "pyasn1                    0.4.8              pyhd3eb1b0_0  \n",
      "pyasn1-modules            0.2.8                      py_0  \n",
      "pycparser                 2.21               pyhd3eb1b0_0  \n",
      "pygments                  2.11.2                   pypi_0    pypi\n",
      "pyjwt                     2.1.0            py39haa95532_0  \n",
      "pyopenssl                 21.0.0             pyhd3eb1b0_1  \n",
      "pyparsing                 3.0.6                    pypi_0    pypi\n",
      "pyqt                      5.12.3           py39hcbf5309_8    conda-forge\n",
      "pyqt-impl                 5.12.3           py39h415ef7b_8    conda-forge\n",
      "pyqt5-sip                 4.19.18          py39h415ef7b_8    conda-forge\n",
      "pyqtchart                 5.12             py39h415ef7b_8    conda-forge\n",
      "pyqtwebengine             5.12.1           py39h415ef7b_8    conda-forge\n",
      "pyreadline                2.1              py39haa95532_1  \n",
      "pyrsistent                0.18.0                   pypi_0    pypi\n",
      "pysocks                   1.7.1            py39haa95532_0  \n",
      "python                    3.9.7                h6244533_1  \n",
      "python-dateutil           2.8.2              pyhd8ed1ab_0    conda-forge\n",
      "python-flatbuffers        1.12               pyhd3eb1b0_0  \n",
      "python_abi                3.9                      2_cp39    conda-forge\n",
      "pytz                      2021.3                   pypi_0    pypi\n",
      "pywin32                   303                      pypi_0    pypi\n",
      "pywinpty                  1.1.6                    pypi_0    pypi\n",
      "pyzmq                     22.3.0                   pypi_0    pypi\n",
      "qt                        5.12.9               h5909a2a_4    conda-forge\n",
      "qtconsole                 5.2.2                    pypi_0    pypi\n",
      "qtpy                      2.0.0                    pypi_0    pypi\n",
      "requests                  2.27.1             pyhd3eb1b0_0  \n",
      "requests-oauthlib         1.3.0                      py_0  \n",
      "rsa                       4.7.2              pyhd3eb1b0_1  \n",
      "scikit-learn              1.0.2                    pypi_0    pypi\n",
      "scipy                     1.7.3            py39h0a974cb_0  \n",
      "seaborn                   0.11.2                   pypi_0    pypi\n",
      "send2trash                1.8.0                    pypi_0    pypi\n",
      "setuptools                58.0.4           py39haa95532_0  \n",
      "six                       1.16.0             pyhd3eb1b0_0  \n",
      "sklearn                   0.0                      pypi_0    pypi\n",
      "snappy                    1.1.8                h33f27b4_0  \n",
      "sqlite                    3.37.0               h2bbff1b_0  \n",
      "tensorboard               2.6.0                      py_1  \n",
      "tensorboard-data-server   0.6.0            py39haa95532_0  \n",
      "tensorboard-plugin-wit    1.6.0                      py_0  \n",
      "tensorflow                2.6.0           gpu_py39he88c5ba_0  \n",
      "tensorflow-base           2.6.0           gpu_py39hb3da07e_0  \n",
      "tensorflow-estimator      2.6.0              pyh7b7c402_0  \n",
      "tensorflow-gpu            2.6.0                h17022bd_0  \n",
      "termcolor                 1.1.0            py39haa95532_1  \n",
      "terminado                 0.12.1                   pypi_0    pypi\n",
      "testpath                  0.5.0                    pypi_0    pypi\n",
      "threadpoolctl             3.0.0                    pypi_0    pypi\n",
      "tk                        8.6.11               h8ffe710_1    conda-forge\n",
      "tornado                   6.1              py39hb82d6ee_2    conda-forge\n",
      "traitlets                 5.1.1                    pypi_0    pypi\n",
      "typing-extensions         3.10.0.2             hd3eb1b0_0  \n",
      "typing_extensions         3.10.0.2           pyh06a4308_0  \n",
      "tzdata                    2021e                hda174b7_0  \n",
      "urllib3                   1.26.7             pyhd3eb1b0_0  \n",
      "vc                        14.2                 h21ff451_1  \n",
      "vs2015_runtime            14.27.29016          h5e58377_2  \n",
      "wcwidth                   0.2.5                    pypi_0    pypi\n",
      "webencodings              0.5.1                    pypi_0    pypi\n",
      "werkzeug                  2.0.2              pyhd3eb1b0_0  \n",
      "wheel                     0.35.1             pyhd3eb1b0_0  \n",
      "widgetsnbextension        3.5.2                    pypi_0    pypi\n",
      "win_inet_pton             1.1.0            py39haa95532_0  \n",
      "wincertstore              0.2              py39haa95532_2  \n",
      "wrapt                     1.13.3           py39h2bbff1b_2  \n",
      "xz                        5.2.5                h62dcd97_1    conda-forge\n",
      "yarl                      1.6.3            py39h2bbff1b_0  \n",
      "zipp                      3.7.0              pyhd3eb1b0_0  \n",
      "zlib                      1.2.11               h8cc25b3_4  \n",
      "zstd                      1.4.9                h6255e5f_0    conda-forge\n"
     ]
    }
   ],
   "source": [
    "!conda list"
   ]
  },
  {
   "cell_type": "code",
   "execution_count": 1,
   "id": "10c4b379",
   "metadata": {},
   "outputs": [
    {
     "data": {
      "text/plain": [
       "'C:\\\\Users\\\\joelw\\\\anaconda3\\\\envs\\\\tfgpu\\\\python.exe'"
      ]
     },
     "execution_count": 1,
     "metadata": {},
     "output_type": "execute_result"
    }
   ],
   "source": [
    "import sys\n",
    "sys.executable"
   ]
  },
  {
   "cell_type": "code",
   "execution_count": 8,
   "id": "993085d8",
   "metadata": {},
   "outputs": [
    {
     "data": {
      "text/plain": [
       "['C:\\\\Users\\\\joelw\\\\Python3_Fish_Classification',\n",
       " 'C:\\\\Users\\\\joelw\\\\anaconda3\\\\envs\\\\cuda_tfgpu_test\\\\python39.zip',\n",
       " 'C:\\\\Users\\\\joelw\\\\anaconda3\\\\envs\\\\cuda_tfgpu_test\\\\DLLs',\n",
       " 'C:\\\\Users\\\\joelw\\\\anaconda3\\\\envs\\\\cuda_tfgpu_test\\\\lib',\n",
       " 'C:\\\\Users\\\\joelw\\\\anaconda3\\\\envs\\\\cuda_tfgpu_test',\n",
       " '',\n",
       " 'C:\\\\Users\\\\joelw\\\\anaconda3\\\\envs\\\\cuda_tfgpu_test\\\\lib\\\\site-packages',\n",
       " 'C:\\\\Users\\\\joelw\\\\anaconda3\\\\envs\\\\cuda_tfgpu_test\\\\lib\\\\site-packages\\\\win32',\n",
       " 'C:\\\\Users\\\\joelw\\\\anaconda3\\\\envs\\\\cuda_tfgpu_test\\\\lib\\\\site-packages\\\\win32\\\\lib',\n",
       " 'C:\\\\Users\\\\joelw\\\\anaconda3\\\\envs\\\\cuda_tfgpu_test\\\\lib\\\\site-packages\\\\Pythonwin',\n",
       " 'C:\\\\Users\\\\joelw\\\\anaconda3\\\\envs\\\\cuda_tfgpu_test\\\\lib\\\\site-packages\\\\IPython\\\\extensions',\n",
       " 'C:\\\\Users\\\\joelw\\\\.ipython']"
      ]
     },
     "execution_count": 8,
     "metadata": {},
     "output_type": "execute_result"
    }
   ],
   "source": [
    "sys.path"
   ]
  },
  {
   "cell_type": "code",
   "execution_count": 6,
   "id": "f0f6fa7f",
   "metadata": {
    "scrolled": true
   },
   "outputs": [],
   "source": [
    "import matplotlib.pyplot as plt"
   ]
  },
  {
   "cell_type": "code",
   "execution_count": 10,
   "id": "2fc3ee57",
   "metadata": {},
   "outputs": [],
   "source": [
    "black_sea_sprat_files = glob.glob('./png_fish_dataset/BlackSeaSprat/*')\n",
    "gilt_head_bream_files = glob.glob('./png_fish_dataset/GiltHeadBream/*')\n",
    "horse_mackerel_files = glob.glob('./png_fish_dataset/HorseMackerel/*')\n",
    "red_mullet_files = glob.glob('./png_fish_dataset/RedMullet/*')\n",
    "red_sea_bream_files = glob.glob('./png_fish_dataset/RedSeaBream/*')\n",
    "sea_bass_files = glob.glob('./png_fish_dataset/SeaBass/*')\n",
    "shrimp_files = glob.glob('./png_fish_dataset/Shrimp/*')\n",
    "striped_red_mullet_files = glob.glob('./png_fish_dataset/StripedRedMullet/*')\n",
    "trout_files = glob.glob('./png_fish_dataset/Trout/*')"
   ]
  },
  {
   "cell_type": "code",
   "execution_count": 11,
   "id": "b40d612a",
   "metadata": {},
   "outputs": [
    {
     "name": "stdout",
     "output_type": "stream",
     "text": [
      "50 50 50 50 49 50 50 50 30\n"
     ]
    }
   ],
   "source": [
    "print(len(black_sea_sprat_files), len(gilt_head_bream_files), len(horse_mackerel_files), len(red_mullet_files),\n",
    "     len(red_sea_bream_files), len(sea_bass_files), len(shrimp_files), len(striped_red_mullet_files), len(trout_files))"
   ]
  },
  {
   "cell_type": "code",
   "execution_count": 12,
   "id": "cc1d2283",
   "metadata": {
    "scrolled": true
   },
   "outputs": [
    {
     "data": {
      "text/plain": [
       "['./png_fish_dataset/RedSeaBream\\\\100_1461.png',\n",
       " './png_fish_dataset/RedSeaBream\\\\100_1462.png',\n",
       " './png_fish_dataset/RedSeaBream\\\\100_1463.png',\n",
       " './png_fish_dataset/RedSeaBream\\\\100_1465.png',\n",
       " './png_fish_dataset/RedSeaBream\\\\100_1476.png',\n",
       " './png_fish_dataset/RedSeaBream\\\\100_1477.png',\n",
       " './png_fish_dataset/RedSeaBream\\\\100_1478.png',\n",
       " './png_fish_dataset/RedSeaBream\\\\100_1479.png',\n",
       " './png_fish_dataset/RedSeaBream\\\\100_1480.png',\n",
       " './png_fish_dataset/RedSeaBream\\\\100_1481.png',\n",
       " './png_fish_dataset/RedSeaBream\\\\100_1482.png',\n",
       " './png_fish_dataset/RedSeaBream\\\\100_1483.png',\n",
       " './png_fish_dataset/RedSeaBream\\\\100_1484.png',\n",
       " './png_fish_dataset/RedSeaBream\\\\100_1485.png',\n",
       " './png_fish_dataset/RedSeaBream\\\\100_1486.png',\n",
       " './png_fish_dataset/RedSeaBream\\\\100_1487.png',\n",
       " './png_fish_dataset/RedSeaBream\\\\100_1488.png',\n",
       " './png_fish_dataset/RedSeaBream\\\\100_1489.png',\n",
       " './png_fish_dataset/RedSeaBream\\\\SAM_5533.png',\n",
       " './png_fish_dataset/RedSeaBream\\\\SAM_5534.png',\n",
       " './png_fish_dataset/RedSeaBream\\\\SAM_5535.png',\n",
       " './png_fish_dataset/RedSeaBream\\\\SAM_5536.png',\n",
       " './png_fish_dataset/RedSeaBream\\\\SAM_5537.png',\n",
       " './png_fish_dataset/RedSeaBream\\\\SAM_5538.png',\n",
       " './png_fish_dataset/RedSeaBream\\\\SAM_5540.png',\n",
       " './png_fish_dataset/RedSeaBream\\\\SAM_5543.png',\n",
       " './png_fish_dataset/RedSeaBream\\\\SAM_5544.png',\n",
       " './png_fish_dataset/RedSeaBream\\\\SAM_5545.png',\n",
       " './png_fish_dataset/RedSeaBream\\\\SAM_5547.png',\n",
       " './png_fish_dataset/RedSeaBream\\\\SAM_5549.png',\n",
       " './png_fish_dataset/RedSeaBream\\\\SAM_5550.png',\n",
       " './png_fish_dataset/RedSeaBream\\\\SAM_5551.png',\n",
       " './png_fish_dataset/RedSeaBream\\\\SAM_5552.png',\n",
       " './png_fish_dataset/RedSeaBream\\\\SAM_5554.png',\n",
       " './png_fish_dataset/RedSeaBream\\\\SAM_5555.png',\n",
       " './png_fish_dataset/RedSeaBream\\\\SAM_5557.png',\n",
       " './png_fish_dataset/RedSeaBream\\\\SAM_5558.png',\n",
       " './png_fish_dataset/RedSeaBream\\\\SAM_5561.png',\n",
       " './png_fish_dataset/RedSeaBream\\\\SAM_5564.png',\n",
       " './png_fish_dataset/RedSeaBream\\\\SAM_5565.png',\n",
       " './png_fish_dataset/RedSeaBream\\\\SAM_5568.png',\n",
       " './png_fish_dataset/RedSeaBream\\\\SAM_5569.png',\n",
       " './png_fish_dataset/RedSeaBream\\\\SAM_5571.png',\n",
       " './png_fish_dataset/RedSeaBream\\\\SAM_5573.png',\n",
       " './png_fish_dataset/RedSeaBream\\\\SAM_5575.png',\n",
       " './png_fish_dataset/RedSeaBream\\\\SAM_5577.png',\n",
       " './png_fish_dataset/RedSeaBream\\\\SAM_5581.png',\n",
       " './png_fish_dataset/RedSeaBream\\\\SAM_5582.png',\n",
       " './png_fish_dataset/RedSeaBream\\\\SAM_5583.png']"
      ]
     },
     "execution_count": 12,
     "metadata": {},
     "output_type": "execute_result"
    }
   ],
   "source": [
    "red_sea_bream_files"
   ]
  },
  {
   "cell_type": "code",
   "execution_count": 13,
   "id": "b67b9c36",
   "metadata": {},
   "outputs": [],
   "source": [
    "def read_images(glob_list):\n",
    "    array = []\n",
    "    for i in glob_list:\n",
    "        data = cv2.imread(i)\n",
    "        data = cv2.cvtColor(data, cv2.COLOR_BGR2RGB)\n",
    "        array.append(data)\n",
    "    return np.array(array)"
   ]
  },
  {
   "cell_type": "code",
   "execution_count": 14,
   "id": "39f98c2f",
   "metadata": {},
   "outputs": [
    {
     "name": "stderr",
     "output_type": "stream",
     "text": [
      "C:\\Users\\joelw\\AppData\\Local\\Temp/ipykernel_23640/1114204760.py:7: VisibleDeprecationWarning: Creating an ndarray from ragged nested sequences (which is a list-or-tuple of lists-or-tuples-or ndarrays with different lengths or shapes) is deprecated. If you meant to do this, you must specify 'dtype=object' when creating the ndarray.\n",
      "  return np.array(array)\n"
     ]
    }
   ],
   "source": [
    "sea_sprat = read_images(black_sea_sprat_files)\n",
    "gilt_head = read_images(gilt_head_bream_files)\n",
    "horse_mackerel = read_images(horse_mackerel_files)\n",
    "red_mullet = read_images(red_mullet_files)\n",
    "sea_bream = read_images(red_sea_bream_files)\n",
    "sea_bass = read_images(sea_bass_files)\n",
    "shrimp = read_images(shrimp_files)\n",
    "striped_mullet = read_images(striped_red_mullet_files)\n",
    "trout = read_images(trout_files)"
   ]
  },
  {
   "cell_type": "code",
   "execution_count": 45,
   "id": "549c5a3f",
   "metadata": {},
   "outputs": [],
   "source": [
    "#convert all images to the same resolution which is necessary for cnn \n",
    "def scale_resize_image(image):\n",
    "    image = tf.image.convert_image_dtype(image, tf.float32) # equivalent to dividing image pixels by 255\n",
    "    image = tf.image.resize(image, (768, 1024)) # Resizing the image to 224x224 dimention\n",
    "    return (image)"
   ]
  },
  {
   "cell_type": "code",
   "execution_count": 19,
   "id": "129a48df",
   "metadata": {},
   "outputs": [],
   "source": [
    "gilt_head2 = []\n",
    "for i in gilt_head:\n",
    "    img = scale_resize_image(i)\n",
    "    gilt_head2.append(img)\n",
    "gilt_head2 = np.array(gilt_head2)"
   ]
  },
  {
   "cell_type": "code",
   "execution_count": 47,
   "id": "fb098392",
   "metadata": {},
   "outputs": [],
   "source": [
    "def resize_image(list_of_images):\n",
    "    for i in list_of_iamges:\n",
    "        image = tf.image.convert_image_dtype(i, tf.float32)\n",
    "        image = tf.image.resize(image, (768,1024))\n",
    "        return image"
   ]
  },
  {
   "cell_type": "code",
   "execution_count": 49,
   "id": "cc186cc4",
   "metadata": {},
   "outputs": [
    {
     "ename": "NameError",
     "evalue": "name 'list_of_iamges' is not defined",
     "output_type": "error",
     "traceback": [
      "\u001b[1;31m---------------------------------------------------------------------------\u001b[0m",
      "\u001b[1;31mNameError\u001b[0m                                 Traceback (most recent call last)",
      "\u001b[1;32m~\\AppData\\Local\\Temp/ipykernel_23640/1797912171.py\u001b[0m in \u001b[0;36m<module>\u001b[1;34m\u001b[0m\n\u001b[1;32m----> 1\u001b[1;33m \u001b[0mgilt_head3\u001b[0m \u001b[1;33m=\u001b[0m \u001b[0mresize_image\u001b[0m\u001b[1;33m(\u001b[0m\u001b[0mgilt_head\u001b[0m\u001b[1;33m)\u001b[0m\u001b[1;33m\u001b[0m\u001b[1;33m\u001b[0m\u001b[0m\n\u001b[0m",
      "\u001b[1;32m~\\AppData\\Local\\Temp/ipykernel_23640/977732100.py\u001b[0m in \u001b[0;36mresize_image\u001b[1;34m(list_of_images)\u001b[0m\n\u001b[0;32m      1\u001b[0m \u001b[1;32mdef\u001b[0m \u001b[0mresize_image\u001b[0m\u001b[1;33m(\u001b[0m\u001b[0mlist_of_images\u001b[0m\u001b[1;33m)\u001b[0m\u001b[1;33m:\u001b[0m\u001b[1;33m\u001b[0m\u001b[1;33m\u001b[0m\u001b[0m\n\u001b[1;32m----> 2\u001b[1;33m     \u001b[1;32mfor\u001b[0m \u001b[0mi\u001b[0m \u001b[1;32min\u001b[0m \u001b[0mlist_of_iamges\u001b[0m\u001b[1;33m:\u001b[0m\u001b[1;33m\u001b[0m\u001b[1;33m\u001b[0m\u001b[0m\n\u001b[0m\u001b[0;32m      3\u001b[0m         \u001b[0mimage\u001b[0m \u001b[1;33m=\u001b[0m \u001b[0mtf\u001b[0m\u001b[1;33m.\u001b[0m\u001b[0mimage\u001b[0m\u001b[1;33m.\u001b[0m\u001b[0mconvert_image_dtype\u001b[0m\u001b[1;33m(\u001b[0m\u001b[0mi\u001b[0m\u001b[1;33m,\u001b[0m \u001b[0mtf\u001b[0m\u001b[1;33m.\u001b[0m\u001b[0mfloat32\u001b[0m\u001b[1;33m)\u001b[0m\u001b[1;33m\u001b[0m\u001b[1;33m\u001b[0m\u001b[0m\n\u001b[0;32m      4\u001b[0m         \u001b[0mimage\u001b[0m \u001b[1;33m=\u001b[0m \u001b[0mtf\u001b[0m\u001b[1;33m.\u001b[0m\u001b[0mimage\u001b[0m\u001b[1;33m.\u001b[0m\u001b[0mresize\u001b[0m\u001b[1;33m(\u001b[0m\u001b[0mimage\u001b[0m\u001b[1;33m,\u001b[0m \u001b[1;33m(\u001b[0m\u001b[1;36m768\u001b[0m\u001b[1;33m,\u001b[0m\u001b[1;36m1024\u001b[0m\u001b[1;33m)\u001b[0m\u001b[1;33m)\u001b[0m\u001b[1;33m\u001b[0m\u001b[1;33m\u001b[0m\u001b[0m\n\u001b[0;32m      5\u001b[0m         \u001b[1;32mreturn\u001b[0m \u001b[0mimage\u001b[0m\u001b[1;33m\u001b[0m\u001b[1;33m\u001b[0m\u001b[0m\n",
      "\u001b[1;31mNameError\u001b[0m: name 'list_of_iamges' is not defined"
     ]
    }
   ],
   "source": [
    "gilt_head3 = resize_image(gilt_head)"
   ]
  },
  {
   "cell_type": "code",
   "execution_count": null,
   "id": "fa3cf5ba",
   "metadata": {},
   "outputs": [],
   "source": []
  },
  {
   "cell_type": "code",
   "execution_count": null,
   "id": "332e4f6f",
   "metadata": {},
   "outputs": [],
   "source": []
  },
  {
   "cell_type": "code",
   "execution_count": null,
   "id": "e6cbd625",
   "metadata": {},
   "outputs": [],
   "source": []
  },
  {
   "cell_type": "code",
   "execution_count": null,
   "id": "6dafcca9",
   "metadata": {},
   "outputs": [],
   "source": []
  },
  {
   "cell_type": "code",
   "execution_count": null,
   "id": "699134ac",
   "metadata": {},
   "outputs": [],
   "source": []
  },
  {
   "cell_type": "code",
   "execution_count": null,
   "id": "87ace834",
   "metadata": {},
   "outputs": [],
   "source": []
  },
  {
   "cell_type": "code",
   "execution_count": null,
   "id": "39a19d1b",
   "metadata": {},
   "outputs": [],
   "source": []
  },
  {
   "cell_type": "code",
   "execution_count": null,
   "id": "12858bcf",
   "metadata": {},
   "outputs": [],
   "source": []
  },
  {
   "cell_type": "code",
   "execution_count": 54,
   "id": "557edd26",
   "metadata": {},
   "outputs": [
    {
     "name": "stderr",
     "output_type": "stream",
     "text": [
      "Corrupt JPEG data: 1 extraneous bytes before marker 0xd9\n",
      "/Users/joelweber/opt/anaconda3/envs/Vehicle_ATR/lib/python3.7/site-packages/ipykernel_launcher.py:7: VisibleDeprecationWarning: Creating an ndarray from ragged nested sequences (which is a list-or-tuple of lists-or-tuples-or ndarrays with different lengths or shapes) is deprecated. If you meant to do this, you must specify 'dtype=object' when creating the ndarray.\n",
      "  import sys\n",
      "Corrupt JPEG data: 1 extraneous bytes before marker 0xd9\n",
      "Corrupt JPEG data: 1 extraneous bytes before marker 0xd9\n",
      "Corrupt JPEG data: 1 extraneous bytes before marker 0xd9\n",
      "Corrupt JPEG data: 1 extraneous bytes before marker 0xd9\n"
     ]
    }
   ],
   "source": [
    "sea_sprat = read_images(black_sea_sprat_files)\n",
    "gilt_head = read_images(gilt_head_bream_files)\n",
    "horse_mackerel = read_images(horse_mackerel_files)\n",
    "red_mullet = read_images(red_mullet_files)\n",
    "red_bream = read_images(red_sea_bream_files)\n",
    "sea_bass = read_images(sea_bass_files)\n",
    "shrimp = read_images(shrimp_files)\n",
    "striped_mullet = read_images(striped_red_mullet_files)\n",
    "trout = read_images(trout_files)"
   ]
  },
  {
   "cell_type": "code",
   "execution_count": 55,
   "id": "9802d0fb",
   "metadata": {},
   "outputs": [
    {
     "name": "stdout",
     "output_type": "stream",
     "text": [
      "(50, 768, 1024, 3) (50,) (50,) (50,) (50,) (50,) (50,) (50,) (30, 768, 1024, 3)\n"
     ]
    }
   ],
   "source": [
    "print(sea_sprat.shape, gilt_head.shape, horse_mackerel.shape, red_mullet.shape, red_bream.shape,\n",
    "     sea_bass.shape, shrimp.shape, striped_mullet.shape, trout.shape)"
   ]
  },
  {
   "cell_type": "code",
   "execution_count": 32,
   "id": "d3e5a7a0",
   "metadata": {},
   "outputs": [
    {
     "data": {
      "text/plain": [
       "(50,)"
      ]
     },
     "execution_count": 32,
     "metadata": {},
     "output_type": "execute_result"
    }
   ],
   "source": [
    "gilt_head2.shape"
   ]
  },
  {
   "cell_type": "code",
   "execution_count": null,
   "id": "14ba9168",
   "metadata": {},
   "outputs": [],
   "source": []
  },
  {
   "cell_type": "code",
   "execution_count": null,
   "id": "030c9249",
   "metadata": {},
   "outputs": [],
   "source": []
  }
 ],
 "metadata": {
  "kernelspec": {
   "display_name": "Python 3 (ipykernel)",
   "language": "python",
   "name": "python3"
  },
  "language_info": {
   "codemirror_mode": {
    "name": "ipython",
    "version": 3
   },
   "file_extension": ".py",
   "mimetype": "text/x-python",
   "name": "python",
   "nbconvert_exporter": "python",
   "pygments_lexer": "ipython3",
   "version": "3.9.7"
  }
 },
 "nbformat": 4,
 "nbformat_minor": 5
}
