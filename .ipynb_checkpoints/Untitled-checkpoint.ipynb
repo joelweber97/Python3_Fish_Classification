{
 "cells": [
  {
   "cell_type": "code",
   "execution_count": 2,
   "id": "63295201",
   "metadata": {},
   "outputs": [],
   "source": [
    "import cv2\n",
    "import numpy as np\n",
    "import glob"
   ]
  },
  {
   "cell_type": "code",
   "execution_count": 3,
   "id": "9f1c6942",
   "metadata": {},
   "outputs": [],
   "source": [
    "import tensorflow as tf\n",
    "from tensorflow.keras.layers import Dense, Conv2D, MaxPool2D, Flatten, Dropout\n",
    "from tensorflow.keras.models import Sequential\n",
    "from tensorflow.keras import datasets, layers, models\n",
    "from tensorflow.keras import utils"
   ]
  },
  {
   "cell_type": "code",
   "execution_count": 4,
   "id": "86eb2dac",
   "metadata": {},
   "outputs": [],
   "source": [
    "from sklearn.model_selection import train_test_split\n",
    "from sklearn.metrics import confusion_matrix, classification_report"
   ]
  },
  {
   "cell_type": "code",
   "execution_count": 50,
   "id": "2fc3ee57",
   "metadata": {},
   "outputs": [],
   "source": [
    "black_sea_sprat_files = glob.glob('./NA_Fish_Dataset/BlackSeaSprat/*')\n",
    "gilt_head_bream_files = glob.glob('./NA_Fish_Dataset/GiltHeadBream/*')\n",
    "horse_mackerel_files = glob.glob('./NA_Fish_Dataset/HorseMackerel/*')\n",
    "red_mullet_files = glob.glob('./NA_Fish_Dataset/RedMullet/*')\n",
    "red_sea_bream_files = glob.glob('./NA_Fish_Dataset/RedSeaBream/*')\n",
    "sea_bass_files = glob.glob('./NA_Fish_Dataset/SeaBass/*')\n",
    "shrimp_files = glob.glob('./NA_Fish_Dataset/Shrimp/*')\n",
    "striped_red_mullet_files = glob.glob('./NA_Fish_Dataset/StripedRedMullet/*')\n",
    "trout_files = glob.glob('./NA_Fish_Dataset/Trout/*')"
   ]
  },
  {
   "cell_type": "code",
   "execution_count": 51,
   "id": "b40d612a",
   "metadata": {},
   "outputs": [
    {
     "name": "stdout",
     "output_type": "stream",
     "text": [
      "50 50 50 50 50 50 50 50 30\n"
     ]
    }
   ],
   "source": [
    "print(len(black_sea_sprat_files), len(gilt_head_bream_files), len(horse_mackerel_files), len(red_mullet_files),\n",
    "     len(red_sea_bream_files), len(sea_bass_files), len(shrimp_files), len(striped_red_mullet_files), len(trout_files))"
   ]
  },
  {
   "cell_type": "code",
   "execution_count": 52,
   "id": "cc1d2283",
   "metadata": {},
   "outputs": [
    {
     "data": {
      "text/plain": [
       "['./NA_Fish_Dataset/RedSeaBream/100_1480.JPG',\n",
       " './NA_Fish_Dataset/RedSeaBream/SAM_5577.JPG',\n",
       " './NA_Fish_Dataset/RedSeaBream/100_1481.JPG',\n",
       " './NA_Fish_Dataset/RedSeaBream/100_1483.JPG',\n",
       " './NA_Fish_Dataset/RedSeaBream/SAM_5561.JPG',\n",
       " './NA_Fish_Dataset/RedSeaBream/SAM_5575.JPG',\n",
       " './NA_Fish_Dataset/RedSeaBream/SAM_5549.JPG',\n",
       " './NA_Fish_Dataset/RedSeaBream/100_1482.JPG',\n",
       " './NA_Fish_Dataset/RedSeaBream/100_1486.JPG',\n",
       " './NA_Fish_Dataset/RedSeaBream/100_1479.JPG',\n",
       " './NA_Fish_Dataset/RedSeaBream/SAM_5571.JPG',\n",
       " './NA_Fish_Dataset/RedSeaBream/SAM_5565.JPG',\n",
       " './NA_Fish_Dataset/RedSeaBream/SAM_5558.JPG',\n",
       " './NA_Fish_Dataset/RedSeaBream/SAM_5564.JPG',\n",
       " './NA_Fish_Dataset/RedSeaBream/100_1478.JPG',\n",
       " './NA_Fish_Dataset/RedSeaBream/100_1487.JPG',\n",
       " './NA_Fish_Dataset/RedSeaBream/100_1485.JPG',\n",
       " './NA_Fish_Dataset/RedSeaBream/SAM_5573.JPG',\n",
       " './NA_Fish_Dataset/RedSeaBream/100_1484.JPG',\n",
       " './NA_Fish_Dataset/RedSeaBream/SAM_5538.JPG',\n",
       " './NA_Fish_Dataset/RedSeaBream/SAM_5535.JPG',\n",
       " './NA_Fish_Dataset/RedSeaBream/SAM_5534.JPG',\n",
       " './NA_Fish_Dataset/RedSeaBream/SAM_5536.JPG',\n",
       " './NA_Fish_Dataset/RedSeaBream/SAM_5537.JPG',\n",
       " './NA_Fish_Dataset/RedSeaBream/SAM_5533.JPG',\n",
       " './NA_Fish_Dataset/RedSeaBream/WhatsApp Image 2019-04-25 at 15.33.13.jpeg',\n",
       " './NA_Fish_Dataset/RedSeaBream/100_1489.JPG',\n",
       " './NA_Fish_Dataset/RedSeaBream/100_1476.JPG',\n",
       " './NA_Fish_Dataset/RedSeaBream/100_1462.JPG',\n",
       " './NA_Fish_Dataset/RedSeaBream/SAM_5581.JPG',\n",
       " './NA_Fish_Dataset/RedSeaBream/SAM_5557.JPG',\n",
       " './NA_Fish_Dataset/RedSeaBream/SAM_5543.JPG',\n",
       " './NA_Fish_Dataset/RedSeaBream/100_1463.JPG',\n",
       " './NA_Fish_Dataset/RedSeaBream/100_1477.JPG',\n",
       " './NA_Fish_Dataset/RedSeaBream/100_1488.JPG',\n",
       " './NA_Fish_Dataset/RedSeaBream/100_1461.JPG',\n",
       " './NA_Fish_Dataset/RedSeaBream/SAM_5582.JPG',\n",
       " './NA_Fish_Dataset/RedSeaBream/SAM_5569.JPG',\n",
       " './NA_Fish_Dataset/RedSeaBream/SAM_5555.JPG',\n",
       " './NA_Fish_Dataset/RedSeaBream/SAM_5540.JPG',\n",
       " './NA_Fish_Dataset/RedSeaBream/SAM_5554.JPG',\n",
       " './NA_Fish_Dataset/RedSeaBream/SAM_5568.JPG',\n",
       " './NA_Fish_Dataset/RedSeaBream/SAM_5583.JPG',\n",
       " './NA_Fish_Dataset/RedSeaBream/SAM_5550.JPG',\n",
       " './NA_Fish_Dataset/RedSeaBream/SAM_5544.JPG',\n",
       " './NA_Fish_Dataset/RedSeaBream/SAM_5545.JPG',\n",
       " './NA_Fish_Dataset/RedSeaBream/SAM_5551.JPG',\n",
       " './NA_Fish_Dataset/RedSeaBream/100_1465.JPG',\n",
       " './NA_Fish_Dataset/RedSeaBream/SAM_5547.JPG',\n",
       " './NA_Fish_Dataset/RedSeaBream/SAM_5552.JPG']"
      ]
     },
     "execution_count": 52,
     "metadata": {},
     "output_type": "execute_result"
    }
   ],
   "source": [
    "red_sea_bream_files"
   ]
  },
  {
   "cell_type": "code",
   "execution_count": 53,
   "id": "b67b9c36",
   "metadata": {},
   "outputs": [],
   "source": [
    "def read_images(glob_list):\n",
    "    array = []\n",
    "    for i in glob_list:\n",
    "        data = cv2.imread(i)\n",
    "        data = cv2.cvtColor(data, cv2.COLOR_BGR2RGB)\n",
    "        array.append(data)\n",
    "    return np.array(array)"
   ]
  },
  {
   "cell_type": "code",
   "execution_count": null,
   "id": "5558b49e",
   "metadata": {},
   "outputs": [],
   "source": []
  },
  {
   "cell_type": "code",
   "execution_count": 57,
   "id": "a1c8cf31",
   "metadata": {},
   "outputs": [
    {
     "data": {
      "text/plain": [
       "(50, 768, 1024, 3)"
      ]
     },
     "execution_count": 57,
     "metadata": {},
     "output_type": "execute_result"
    }
   ],
   "source": [
    "sea_sprat = []\n",
    "for i in black_sea_sprat_files:\n",
    "    data = cv2.imread(i)\n",
    "    data = cv2.cvtColor(data, cv2.COLOR_BGR2RGB)\n",
    "    sea_sprat.append(data)\n",
    "\n",
    "sea_sprat = np.array(sea_sprat)\n",
    "sea_sprat.shape"
   ]
  },
  {
   "cell_type": "code",
   "execution_count": 58,
   "id": "bc82b265",
   "metadata": {},
   "outputs": [
    {
     "name": "stderr",
     "output_type": "stream",
     "text": [
      "Corrupt JPEG data: 1 extraneous bytes before marker 0xd9\n",
      "/Users/joelweber/opt/anaconda3/envs/Vehicle_ATR/lib/python3.7/site-packages/ipykernel_launcher.py:7: VisibleDeprecationWarning: Creating an ndarray from ragged nested sequences (which is a list-or-tuple of lists-or-tuples-or ndarrays with different lengths or shapes) is deprecated. If you meant to do this, you must specify 'dtype=object' when creating the ndarray.\n",
      "  import sys\n"
     ]
    }
   ],
   "source": [
    "gilt_head = []\n",
    "for i in gilt_head_bream_files:\n",
    "    data = cv2.imread(i)\n",
    "    data = cv2.cvtColor(data, cv2.COLOR_BGR2RGB)\n",
    "    gilt_head.append(data)\n",
    "\n",
    "gilt_head = np.array(gilt_head)"
   ]
  },
  {
   "cell_type": "code",
   "execution_count": 59,
   "id": "df338d75",
   "metadata": {},
   "outputs": [
    {
     "data": {
      "text/plain": [
       "(50,)"
      ]
     },
     "execution_count": 59,
     "metadata": {},
     "output_type": "execute_result"
    }
   ],
   "source": [
    "gilt_head.shape"
   ]
  },
  {
   "cell_type": "code",
   "execution_count": 61,
   "id": "3bc5ddc8",
   "metadata": {},
   "outputs": [
    {
     "data": {
      "text/plain": [
       "(768, 1024, 3)"
      ]
     },
     "execution_count": 61,
     "metadata": {},
     "output_type": "execute_result"
    }
   ],
   "source": [
    "gilt_head[0].shape"
   ]
  },
  {
   "cell_type": "code",
   "execution_count": 62,
   "id": "8a299be1",
   "metadata": {},
   "outputs": [],
   "source": [
    "gilt_head2 = []\n",
    "for i in gilt_head:\n",
    "    gilt_head2.append(i)"
   ]
  },
  {
   "cell_type": "code",
   "execution_count": null,
   "id": "39018fed",
   "metadata": {},
   "outputs": [],
   "source": []
  },
  {
   "cell_type": "code",
   "execution_count": null,
   "id": "cb943c8f",
   "metadata": {},
   "outputs": [],
   "source": []
  },
  {
   "cell_type": "code",
   "execution_count": null,
   "id": "3285dc1d",
   "metadata": {},
   "outputs": [],
   "source": []
  },
  {
   "cell_type": "code",
   "execution_count": 54,
   "id": "557edd26",
   "metadata": {},
   "outputs": [
    {
     "name": "stderr",
     "output_type": "stream",
     "text": [
      "Corrupt JPEG data: 1 extraneous bytes before marker 0xd9\n",
      "/Users/joelweber/opt/anaconda3/envs/Vehicle_ATR/lib/python3.7/site-packages/ipykernel_launcher.py:7: VisibleDeprecationWarning: Creating an ndarray from ragged nested sequences (which is a list-or-tuple of lists-or-tuples-or ndarrays with different lengths or shapes) is deprecated. If you meant to do this, you must specify 'dtype=object' when creating the ndarray.\n",
      "  import sys\n",
      "Corrupt JPEG data: 1 extraneous bytes before marker 0xd9\n",
      "Corrupt JPEG data: 1 extraneous bytes before marker 0xd9\n",
      "Corrupt JPEG data: 1 extraneous bytes before marker 0xd9\n",
      "Corrupt JPEG data: 1 extraneous bytes before marker 0xd9\n"
     ]
    }
   ],
   "source": [
    "sea_sprat = read_images(black_sea_sprat_files)\n",
    "gilt_head = read_images(gilt_head_bream_files)\n",
    "horse_mackerel = read_images(horse_mackerel_files)\n",
    "red_mullet = read_images(red_mullet_files)\n",
    "red_bream = read_images(red_sea_bream_files)\n",
    "sea_bass = read_images(sea_bass_files)\n",
    "shrimp = read_images(shrimp_files)\n",
    "striped_mullet = read_images(striped_red_mullet_files)\n",
    "trout = read_images(trout_files)"
   ]
  },
  {
   "cell_type": "code",
   "execution_count": 55,
   "id": "9802d0fb",
   "metadata": {},
   "outputs": [
    {
     "name": "stdout",
     "output_type": "stream",
     "text": [
      "(50, 768, 1024, 3) (50,) (50,) (50,) (50,) (50,) (50,) (50,) (30, 768, 1024, 3)\n"
     ]
    }
   ],
   "source": [
    "print(sea_sprat.shape, gilt_head.shape, horse_mackerel.shape, red_mullet.shape, red_bream.shape,\n",
    "     sea_bass.shape, shrimp.shape, striped_mullet.shape, trout.shape)"
   ]
  },
  {
   "cell_type": "code",
   "execution_count": 32,
   "id": "d3e5a7a0",
   "metadata": {},
   "outputs": [
    {
     "data": {
      "text/plain": [
       "(50,)"
      ]
     },
     "execution_count": 32,
     "metadata": {},
     "output_type": "execute_result"
    }
   ],
   "source": [
    "gilt_head2.shape"
   ]
  },
  {
   "cell_type": "code",
   "execution_count": null,
   "id": "14ba9168",
   "metadata": {},
   "outputs": [],
   "source": []
  },
  {
   "cell_type": "code",
   "execution_count": null,
   "id": "030c9249",
   "metadata": {},
   "outputs": [],
   "source": []
  }
 ],
 "metadata": {
  "kernelspec": {
   "display_name": "Python 3 (ipykernel)",
   "language": "python",
   "name": "python3"
  },
  "language_info": {
   "codemirror_mode": {
    "name": "ipython",
    "version": 3
   },
   "file_extension": ".py",
   "mimetype": "text/x-python",
   "name": "python",
   "nbconvert_exporter": "python",
   "pygments_lexer": "ipython3",
   "version": "3.7.0"
  }
 },
 "nbformat": 4,
 "nbformat_minor": 5
}
